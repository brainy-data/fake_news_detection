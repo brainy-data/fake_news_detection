{
  "nbformat": 4,
  "nbformat_minor": 0,
  "metadata": {
    "colab": {
      "name": "Part_2_NLP_modelling.ipynb",
      "provenance": [],
      "collapsed_sections": [],
      "toc_visible": true,
      "include_colab_link": true
    },
    "kernelspec": {
      "display_name": "Python 3",
      "name": "python3"
    },
    "language_info": {
      "name": "python"
    }
  },
  "cells": [
    {
      "cell_type": "markdown",
      "metadata": {
        "id": "view-in-github",
        "colab_type": "text"
      },
      "source": [
        "<a href=\"https://colab.research.google.com/github/brainy-data/fake_news_detection/blob/main/Modelling.ipynb\" target=\"_parent\"><img src=\"https://colab.research.google.com/assets/colab-badge.svg\" alt=\"Open In Colab\"/></a>"
      ]
    },
    {
      "cell_type": "code",
      "metadata": {
        "colab": {
          "base_uri": "https://localhost:8080/"
        },
        "id": "70igPTI4AAdo",
        "outputId": "6cbafaa1-a3d4-4b50-de41-a93913650fe9"
      },
      "source": [
        "#import csv\n",
        "#this part was done on Google Colab\n",
        "!gdown --id 1L5o2fVXibffuzWepsKljbO8KfEgdixjY\n",
        "!gdown --id 11LL7r7YePq_lpa_14z4DDb68TVRM0E2w"
      ],
      "execution_count": 1,
      "outputs": [
        {
          "output_type": "stream",
          "text": [
            "Downloading...\n",
            "From: https://drive.google.com/uc?id=1L5o2fVXibffuzWepsKljbO8KfEgdixjY\n",
            "To: /content/Fake.csv\n",
            "62.8MB [00:01, 41.4MB/s]\n",
            "Downloading...\n",
            "From: https://drive.google.com/uc?id=11LL7r7YePq_lpa_14z4DDb68TVRM0E2w\n",
            "To: /content/True.csv\n",
            "53.6MB [00:01, 42.2MB/s]\n"
          ],
          "name": "stdout"
        }
      ]
    },
    {
      "cell_type": "markdown",
      "metadata": {
        "id": "H-Gi-hgy5n9-"
      },
      "source": [
        "# Library and Data Import"
      ]
    },
    {
      "cell_type": "code",
      "metadata": {
        "colab": {
          "base_uri": "https://localhost:8080/"
        },
        "id": "XU02sc8b5n-O",
        "outputId": "e65d06bd-3ce2-4826-cce6-26d291b61b86"
      },
      "source": [
        "# Library Import\n",
        "\n",
        "import gensim\n",
        "import keras\n",
        "import lightgbm as lgb\n",
        "import matplotlib.pyplot as plt\n",
        "import nltk\n",
        "import numpy as np\n",
        "import pandas as pd\n",
        "import re\n",
        "import seaborn as sns\n",
        "import tensorflow as tf\n",
        "import tensorflow_hub as hub\n",
        "\n",
        "\n",
        "from keras.preprocessing import text, sequence\n",
        "from keras.models import Sequential\n",
        "from keras.layers import Dense,Embedding,LSTM,Dropout,Bidirectional,GRU\n",
        "from keras.layers import Input, GlobalMaxPooling1D, LSTM\n",
        "from keras.layers import Conv1D, MaxPooling1D,Activation, Flatten\n",
        "\n",
        "from nltk.corpus import stopwords\n",
        "from nltk.tokenize import word_tokenize\n",
        "from nltk.stem import WordNetLemmatizer\n",
        "\n",
        "from sklearn import metrics\n",
        "from sklearn.feature_extraction.text import TfidfVectorizer\n",
        "from sklearn.metrics import confusion_matrix\n",
        "from sklearn.metrics import classification_report\n",
        "from sklearn.model_selection import train_test_split\n",
        "from tensorflow.keras import layers\n",
        "\n",
        "nltk.download('punkt')\n",
        "nltk.download('stopwords')\n",
        "nltk.download('wordnet')\n",
        "nltk.download('words')\n",
        "wordnet_lemmatizer = WordNetLemmatizer()"
      ],
      "execution_count": 2,
      "outputs": [
        {
          "output_type": "stream",
          "text": [
            "[nltk_data] Downloading package punkt to /root/nltk_data...\n",
            "[nltk_data]   Unzipping tokenizers/punkt.zip.\n",
            "[nltk_data] Downloading package stopwords to /root/nltk_data...\n",
            "[nltk_data]   Unzipping corpora/stopwords.zip.\n",
            "[nltk_data] Downloading package wordnet to /root/nltk_data...\n",
            "[nltk_data]   Unzipping corpora/wordnet.zip.\n",
            "[nltk_data] Downloading package words to /root/nltk_data...\n",
            "[nltk_data]   Unzipping corpora/words.zip.\n"
          ],
          "name": "stdout"
        }
      ]
    },
    {
      "cell_type": "code",
      "metadata": {
        "id": "_MjiYrK05n-R"
      },
      "source": [
        "# Data Load\n",
        "real_news = pd.read_csv('True.csv')\n",
        "fake_news = pd.read_csv('Fake.csv')"
      ],
      "execution_count": 3,
      "outputs": []
    },
    {
      "cell_type": "code",
      "metadata": {
        "colab": {
          "base_uri": "https://localhost:8080/"
        },
        "id": "Dfn0I5R-5n-S",
        "outputId": "f4a35578-605e-4ef9-f358-566867044eb6"
      },
      "source": [
        "real_news.shape, fake_news.shape"
      ],
      "execution_count": 4,
      "outputs": [
        {
          "output_type": "execute_result",
          "data": {
            "text/plain": [
              "((21417, 4), (23481, 4))"
            ]
          },
          "metadata": {
            "tags": []
          },
          "execution_count": 4
        }
      ]
    },
    {
      "cell_type": "markdown",
      "metadata": {
        "id": "i_hQyirn5n-S"
      },
      "source": [
        "Here we noted that there are more than 20k real news articles and fake news articles.\n",
        "<br>\n",
        "It could be considered as a rather balanced dataset."
      ]
    },
    {
      "cell_type": "code",
      "metadata": {
        "colab": {
          "base_uri": "https://localhost:8080/",
          "height": 195
        },
        "id": "w-ignp7F5n-T",
        "outputId": "89de26a3-f36c-491e-db7b-948ad7ef2e29"
      },
      "source": [
        "real_news.head()"
      ],
      "execution_count": 5,
      "outputs": [
        {
          "output_type": "execute_result",
          "data": {
            "text/html": [
              "<div>\n",
              "<style scoped>\n",
              "    .dataframe tbody tr th:only-of-type {\n",
              "        vertical-align: middle;\n",
              "    }\n",
              "\n",
              "    .dataframe tbody tr th {\n",
              "        vertical-align: top;\n",
              "    }\n",
              "\n",
              "    .dataframe thead th {\n",
              "        text-align: right;\n",
              "    }\n",
              "</style>\n",
              "<table border=\"1\" class=\"dataframe\">\n",
              "  <thead>\n",
              "    <tr style=\"text-align: right;\">\n",
              "      <th></th>\n",
              "      <th>title</th>\n",
              "      <th>text</th>\n",
              "      <th>subject</th>\n",
              "      <th>date</th>\n",
              "    </tr>\n",
              "  </thead>\n",
              "  <tbody>\n",
              "    <tr>\n",
              "      <th>0</th>\n",
              "      <td>As U.S. budget fight looms, Republicans flip t...</td>\n",
              "      <td>WASHINGTON (Reuters) - The head of a conservat...</td>\n",
              "      <td>politicsNews</td>\n",
              "      <td>December 31, 2017</td>\n",
              "    </tr>\n",
              "    <tr>\n",
              "      <th>1</th>\n",
              "      <td>U.S. military to accept transgender recruits o...</td>\n",
              "      <td>WASHINGTON (Reuters) - Transgender people will...</td>\n",
              "      <td>politicsNews</td>\n",
              "      <td>December 29, 2017</td>\n",
              "    </tr>\n",
              "    <tr>\n",
              "      <th>2</th>\n",
              "      <td>Senior U.S. Republican senator: 'Let Mr. Muell...</td>\n",
              "      <td>WASHINGTON (Reuters) - The special counsel inv...</td>\n",
              "      <td>politicsNews</td>\n",
              "      <td>December 31, 2017</td>\n",
              "    </tr>\n",
              "    <tr>\n",
              "      <th>3</th>\n",
              "      <td>FBI Russia probe helped by Australian diplomat...</td>\n",
              "      <td>WASHINGTON (Reuters) - Trump campaign adviser ...</td>\n",
              "      <td>politicsNews</td>\n",
              "      <td>December 30, 2017</td>\n",
              "    </tr>\n",
              "    <tr>\n",
              "      <th>4</th>\n",
              "      <td>Trump wants Postal Service to charge 'much mor...</td>\n",
              "      <td>SEATTLE/WASHINGTON (Reuters) - President Donal...</td>\n",
              "      <td>politicsNews</td>\n",
              "      <td>December 29, 2017</td>\n",
              "    </tr>\n",
              "  </tbody>\n",
              "</table>\n",
              "</div>"
            ],
            "text/plain": [
              "                                               title  ...                date\n",
              "0  As U.S. budget fight looms, Republicans flip t...  ...  December 31, 2017 \n",
              "1  U.S. military to accept transgender recruits o...  ...  December 29, 2017 \n",
              "2  Senior U.S. Republican senator: 'Let Mr. Muell...  ...  December 31, 2017 \n",
              "3  FBI Russia probe helped by Australian diplomat...  ...  December 30, 2017 \n",
              "4  Trump wants Postal Service to charge 'much mor...  ...  December 29, 2017 \n",
              "\n",
              "[5 rows x 4 columns]"
            ]
          },
          "metadata": {
            "tags": []
          },
          "execution_count": 5
        }
      ]
    },
    {
      "cell_type": "markdown",
      "metadata": {
        "id": "RvbqbCvw5n-T"
      },
      "source": [
        "# Data Pre-processing"
      ]
    },
    {
      "cell_type": "code",
      "metadata": {
        "id": "OJOqg5iT5n-U"
      },
      "source": [
        "# assign the label of fakes news to the dataset\n",
        "# 'is_fake'= 1 for fake news articles and ‘is_fake' =0 for real news articles\n",
        "\n",
        "real_news['is_fake'] = 0\n",
        "fake_news['is_fake'] = 1\n",
        "\n",
        "# Hence we concat these two dataframes\n",
        "all_news = real_news.append(fake_news,  ignore_index=True)"
      ],
      "execution_count": 6,
      "outputs": []
    },
    {
      "cell_type": "markdown",
      "metadata": {
        "id": "YdD-VAal5n-U"
      },
      "source": [
        "The Kaggle Blog over here points out the problem of data leakage in this dataset.\n",
        "https://www.kaggle.com/mosewintner/5-data-leaks-100-acc-1-word-99-6-acc/comments (for more details)\n",
        "<br>\n",
        "The problems inlcude the presence of the string (Reuters)in text column,the distribution of subject and the date itself and URLs in date column. \n",
        "<br>\n",
        "In order to have a more fair dataset setting, here in this dataset we would drop the subject and date column as well as removing the word (Reuters) in the text."
      ]
    },
    {
      "cell_type": "code",
      "metadata": {
        "id": "pmaZGtS65n-V"
      },
      "source": [
        "# Drop the column of subject and date as per the reason stated above\n",
        "all_news = all_news.drop(columns=['subject', 'date'])\n",
        "\n",
        "#Also, we want to remove the presence of string '(Reuters)'\n",
        "all_news['text'] = all_news['text'].str.replace('\\(Reuters\\)', '')\n"
      ],
      "execution_count": 7,
      "outputs": []
    },
    {
      "cell_type": "code",
      "metadata": {
        "colab": {
          "base_uri": "https://localhost:8080/"
        },
        "id": "pUx0kWTI5n-V",
        "outputId": "5ee23b97-6c76-431c-daef-afd17a2bf6b0"
      },
      "source": [
        "all_news.shape"
      ],
      "execution_count": 8,
      "outputs": [
        {
          "output_type": "execute_result",
          "data": {
            "text/plain": [
              "(44898, 3)"
            ]
          },
          "metadata": {
            "tags": []
          },
          "execution_count": 8
        }
      ]
    },
    {
      "cell_type": "markdown",
      "metadata": {
        "id": "_TexQHVr5n-W"
      },
      "source": [
        "Here we propose to have 3 different models for this binary text-classfication:\n",
        "<br>\n",
        "1. TF-iDF processing + LightGBM\n",
        "2. word2vec processing + CNN\n",
        "3. word2vec processing + CNN LSTM"
      ]
    },
    {
      "cell_type": "code",
      "metadata": {
        "id": "qLMmdJ2w5n-W"
      },
      "source": [
        "#Define a function to conduct common word-preprocessing operations (e.g. lowercase, remove stopwords and remove punctuationetc.)\n",
        "#Convert X to format accepatable to further processing\n",
        "#This function is referenced from https://www.kaggle.com/rahulkumarpatro/fake-vs-real-news-classification-lstm-word2vec\n",
        "\n",
        "def get_cleaned_data(input_data, mode='df'):\n",
        "    stop = stopwords.words('english')\n",
        "    \n",
        "    input_df = ''\n",
        "    \n",
        "    if mode != 'df':\n",
        "        input_df = pd.DataFrame([input_data], columns=['text'])\n",
        "    else:\n",
        "        input_df = input_data       \n",
        "    #lowercase the text\n",
        "    input_df['text'] = input_df['text'].str.lower()    \n",
        "    #remove special characters\n",
        "    input_df['text'] = input_df['text'].apply(lambda elem: re.sub(r\"(@[A-Za-z0-9]+)|([^0-9A-Za-z \\t])|(\\w+:\\/\\/\\S+)|^rt|http.+?\", \"\", elem))    \n",
        "    # remove numbers\n",
        "    input_df['text'] = input_df['text'].apply(lambda elem: re.sub(r\"\\d+\", \"\", elem))    \n",
        "    #remove stopwords\n",
        "    input_df['text'] = input_df['text'].apply(lambda x: ' '.join([word.strip() for word in x.split() if word not in (stop)]))\n",
        "    \n",
        "    input_df['text'] = input_df['text'].apply(lambda words: (wordnet_lemmatizer.lemmatize(words)))\n",
        "    \n",
        "    return input_df"
      ],
      "execution_count": 9,
      "outputs": []
    },
    {
      "cell_type": "code",
      "metadata": {
        "id": "QHgyoDkE5n-X"
      },
      "source": [
        "all_news = get_cleaned_data(all_news)"
      ],
      "execution_count": 10,
      "outputs": []
    },
    {
      "cell_type": "code",
      "metadata": {
        "colab": {
          "base_uri": "https://localhost:8080/",
          "height": 136
        },
        "id": "XQ_DsnSt5n-X",
        "outputId": "126040c0-0c3a-4d15-d772-b72f51e35093"
      },
      "source": [
        "all_news.head(3)"
      ],
      "execution_count": 11,
      "outputs": [
        {
          "output_type": "execute_result",
          "data": {
            "text/html": [
              "<div>\n",
              "<style scoped>\n",
              "    .dataframe tbody tr th:only-of-type {\n",
              "        vertical-align: middle;\n",
              "    }\n",
              "\n",
              "    .dataframe tbody tr th {\n",
              "        vertical-align: top;\n",
              "    }\n",
              "\n",
              "    .dataframe thead th {\n",
              "        text-align: right;\n",
              "    }\n",
              "</style>\n",
              "<table border=\"1\" class=\"dataframe\">\n",
              "  <thead>\n",
              "    <tr style=\"text-align: right;\">\n",
              "      <th></th>\n",
              "      <th>title</th>\n",
              "      <th>text</th>\n",
              "      <th>is_fake</th>\n",
              "    </tr>\n",
              "  </thead>\n",
              "  <tbody>\n",
              "    <tr>\n",
              "      <th>0</th>\n",
              "      <td>As U.S. budget fight looms, Republicans flip t...</td>\n",
              "      <td>washington head conservative republican factio...</td>\n",
              "      <td>0</td>\n",
              "    </tr>\n",
              "    <tr>\n",
              "      <th>1</th>\n",
              "      <td>U.S. military to accept transgender recruits o...</td>\n",
              "      <td>washington transgender people allowed first ti...</td>\n",
              "      <td>0</td>\n",
              "    </tr>\n",
              "    <tr>\n",
              "      <th>2</th>\n",
              "      <td>Senior U.S. Republican senator: 'Let Mr. Muell...</td>\n",
              "      <td>washington special counsel investigation links...</td>\n",
              "      <td>0</td>\n",
              "    </tr>\n",
              "  </tbody>\n",
              "</table>\n",
              "</div>"
            ],
            "text/plain": [
              "                                               title  ... is_fake\n",
              "0  As U.S. budget fight looms, Republicans flip t...  ...       0\n",
              "1  U.S. military to accept transgender recruits o...  ...       0\n",
              "2  Senior U.S. Republican senator: 'Let Mr. Muell...  ...       0\n",
              "\n",
              "[3 rows x 3 columns]"
            ]
          },
          "metadata": {
            "tags": []
          },
          "execution_count": 11
        }
      ]
    },
    {
      "cell_type": "markdown",
      "metadata": {
        "id": "eQ2Dc2b15n-Z"
      },
      "source": [
        "# Model 1 (TF-iDF + LightGBM)"
      ]
    },
    {
      "cell_type": "code",
      "metadata": {
        "colab": {
          "base_uri": "https://localhost:8080/"
        },
        "id": "S9R7n0_85n-Z",
        "outputId": "47ef966c-b072-4983-b339-58d7865298d6"
      },
      "source": [
        "%%time\n",
        "#create the tfidf-vectorizer\n",
        "tfidf = TfidfVectorizer(strip_accents='ascii', ngram_range=(1,2), max_features=1000)\n",
        "\n",
        "X_text = tfidf.fit_transform(all_news['text'])\n",
        "y = all_news.is_fake"
      ],
      "execution_count": 12,
      "outputs": [
        {
          "output_type": "stream",
          "text": [
            "CPU times: user 44.5 s, sys: 1.4 s, total: 45.9 s\n",
            "Wall time: 46 s\n"
          ],
          "name": "stdout"
        }
      ]
    },
    {
      "cell_type": "code",
      "metadata": {
        "id": "mEj3FxVd5n-Z"
      },
      "source": [
        "#Train-Test Split\n",
        "train_x, test_x, train_y, test_y = train_test_split(X_text, y, test_size=.2, random_state=42)\n",
        "#Train-validation Split  (train-70%, validation 10% and test 20%)\n",
        "train_x, val_x, train_y, val_y = train_test_split(train_x, train_y, test_size=.125, random_state=42)"
      ],
      "execution_count": 13,
      "outputs": []
    },
    {
      "cell_type": "code",
      "metadata": {
        "id": "mosAWIIRlfki"
      },
      "source": [
        ""
      ],
      "execution_count": 13,
      "outputs": []
    },
    {
      "cell_type": "code",
      "metadata": {
        "colab": {
          "base_uri": "https://localhost:8080/"
        },
        "id": "z8IQglv_5n-a",
        "outputId": "eb721dbe-3dc5-4c06-e7d1-2692f54b5fcd"
      },
      "source": [
        "%%time\n",
        "# LightGBM parameter\n",
        "parameters = {'num_leaves':20, 'max_depth':8,\n",
        "              'objective':'binary', 'metric':'logloss',\n",
        "              'learning_rate':0.05, 'n_jobs': -1,\n",
        "              'n_estimators':100}\n",
        "\n",
        "# LightGBM model\n",
        "lgb_model = lgb.LGBMClassifier(**parameters)\n",
        "\n",
        "lgb_model.fit(train_x, train_y, eval_set=[(val_x, val_y)],\n",
        "             early_stopping_rounds=100, eval_metric='logloss', verbose=100)"
      ],
      "execution_count": 14,
      "outputs": [
        {
          "output_type": "stream",
          "text": [
            "Training until validation scores don't improve for 100 rounds.\n",
            "[100]\tvalid_0's binary_logloss: 0.115979\n",
            "Did not meet early stopping. Best iteration is:\n",
            "[100]\tvalid_0's binary_logloss: 0.115979\n",
            "CPU times: user 35.4 s, sys: 99.2 ms, total: 35.5 s\n",
            "Wall time: 18.1 s\n"
          ],
          "name": "stdout"
        }
      ]
    },
    {
      "cell_type": "code",
      "metadata": {
        "id": "lMAaCZFP5n-a"
      },
      "source": [
        "#Prediction\n",
        "predict_lgb = lgb_model.predict(test_x)"
      ],
      "execution_count": 15,
      "outputs": []
    },
    {
      "cell_type": "code",
      "metadata": {
        "colab": {
          "base_uri": "https://localhost:8080/"
        },
        "id": "aEdwuoo25n-a",
        "outputId": "f7846878-bb3e-48e2-b3e2-7ba85cea4288"
      },
      "source": [
        "print(classification_report(test_y, predict_lgb))"
      ],
      "execution_count": 16,
      "outputs": [
        {
          "output_type": "stream",
          "text": [
            "              precision    recall  f1-score   support\n",
            "\n",
            "           0       0.96      0.97      0.97      4330\n",
            "           1       0.97      0.96      0.97      4650\n",
            "\n",
            "    accuracy                           0.97      8980\n",
            "   macro avg       0.97      0.97      0.97      8980\n",
            "weighted avg       0.97      0.97      0.97      8980\n",
            "\n"
          ],
          "name": "stdout"
        }
      ]
    },
    {
      "cell_type": "markdown",
      "metadata": {
        "id": "ZJQdn3qm5n-X"
      },
      "source": [
        "# Model 2 (word2vec + CNN)"
      ]
    },
    {
      "cell_type": "code",
      "metadata": {
        "colab": {
          "base_uri": "https://localhost:8080/",
          "height": 195
        },
        "id": "NJT_x_i9Mhrw",
        "outputId": "2bf8d273-496d-45c6-db6c-3c9fa014a845"
      },
      "source": [
        "all_news.head()"
      ],
      "execution_count": 17,
      "outputs": [
        {
          "output_type": "execute_result",
          "data": {
            "text/html": [
              "<div>\n",
              "<style scoped>\n",
              "    .dataframe tbody tr th:only-of-type {\n",
              "        vertical-align: middle;\n",
              "    }\n",
              "\n",
              "    .dataframe tbody tr th {\n",
              "        vertical-align: top;\n",
              "    }\n",
              "\n",
              "    .dataframe thead th {\n",
              "        text-align: right;\n",
              "    }\n",
              "</style>\n",
              "<table border=\"1\" class=\"dataframe\">\n",
              "  <thead>\n",
              "    <tr style=\"text-align: right;\">\n",
              "      <th></th>\n",
              "      <th>title</th>\n",
              "      <th>text</th>\n",
              "      <th>is_fake</th>\n",
              "    </tr>\n",
              "  </thead>\n",
              "  <tbody>\n",
              "    <tr>\n",
              "      <th>0</th>\n",
              "      <td>As U.S. budget fight looms, Republicans flip t...</td>\n",
              "      <td>washington head conservative republican factio...</td>\n",
              "      <td>0</td>\n",
              "    </tr>\n",
              "    <tr>\n",
              "      <th>1</th>\n",
              "      <td>U.S. military to accept transgender recruits o...</td>\n",
              "      <td>washington transgender people allowed first ti...</td>\n",
              "      <td>0</td>\n",
              "    </tr>\n",
              "    <tr>\n",
              "      <th>2</th>\n",
              "      <td>Senior U.S. Republican senator: 'Let Mr. Muell...</td>\n",
              "      <td>washington special counsel investigation links...</td>\n",
              "      <td>0</td>\n",
              "    </tr>\n",
              "    <tr>\n",
              "      <th>3</th>\n",
              "      <td>FBI Russia probe helped by Australian diplomat...</td>\n",
              "      <td>washington trump campaign adviser george papad...</td>\n",
              "      <td>0</td>\n",
              "    </tr>\n",
              "    <tr>\n",
              "      <th>4</th>\n",
              "      <td>Trump wants Postal Service to charge 'much mor...</td>\n",
              "      <td>seattlewashington president donald trump calle...</td>\n",
              "      <td>0</td>\n",
              "    </tr>\n",
              "  </tbody>\n",
              "</table>\n",
              "</div>"
            ],
            "text/plain": [
              "                                               title  ... is_fake\n",
              "0  As U.S. budget fight looms, Republicans flip t...  ...       0\n",
              "1  U.S. military to accept transgender recruits o...  ...       0\n",
              "2  Senior U.S. Republican senator: 'Let Mr. Muell...  ...       0\n",
              "3  FBI Russia probe helped by Australian diplomat...  ...       0\n",
              "4  Trump wants Postal Service to charge 'much mor...  ...       0\n",
              "\n",
              "[5 rows x 3 columns]"
            ]
          },
          "metadata": {
            "tags": []
          },
          "execution_count": 17
        }
      ]
    },
    {
      "cell_type": "code",
      "metadata": {
        "id": "7RTT3mdq5n-Z"
      },
      "source": [
        "words = []\n",
        "\n",
        "for i in all_news.text.values:\n",
        "    words.append(i.split())"
      ],
      "execution_count": 18,
      "outputs": []
    },
    {
      "cell_type": "code",
      "metadata": {
        "colab": {
          "base_uri": "https://localhost:8080/"
        },
        "id": "H9iC6d2iUrVS",
        "outputId": "1dad94c7-7919-4367-fc4c-cd84881e8e10"
      },
      "source": [
        "%%time\n",
        "# To generate 200 Dimension of vectors \n",
        "EMBEDDING_DIM = 200\n",
        "\n",
        "#Creating Word Vectors by Word2Vec Method\n",
        "w2v_model = gensim.models.Word2Vec(sentences = words , size=EMBEDDING_DIM , window = 5 , min_count = 1)"
      ],
      "execution_count": 19,
      "outputs": [
        {
          "output_type": "stream",
          "text": [
            "CPU times: user 4min 54s, sys: 1.43 s, total: 4min 55s\n",
            "Wall time: 2min 54s\n"
          ],
          "name": "stdout"
        }
      ]
    },
    {
      "cell_type": "code",
      "metadata": {
        "colab": {
          "base_uri": "https://localhost:8080/"
        },
        "id": "AtZ2P4P1YpDh",
        "outputId": "919612c5-a470-4e40-87fd-1f1adf51eeb9"
      },
      "source": [
        "len(w2v_model.wv.vocab)"
      ],
      "execution_count": 20,
      "outputs": [
        {
          "output_type": "execute_result",
          "data": {
            "text/plain": [
              "202249"
            ]
          },
          "metadata": {
            "tags": []
          },
          "execution_count": 20
        }
      ]
    },
    {
      "cell_type": "code",
      "metadata": {
        "colab": {
          "base_uri": "https://localhost:8080/"
        },
        "id": "c1q9v3Do1eib",
        "outputId": "76918771-0517-4e04-8ce0-a997a2024a18"
      },
      "source": [
        "%%time\n",
        "MAX_SEQUENCE_LENGTH = 500\n",
        "\n",
        "tokenizer = text.Tokenizer(num_words=35000)\n",
        "tokenizer.fit_on_texts(words)\n",
        "tokenized_train = tokenizer.texts_to_sequences(words)\n",
        "x = sequence.pad_sequences(tokenized_train, maxlen = MAX_SEQUENCE_LENGTH)\n",
        "\n",
        "\n",
        "\n",
        "# Embedding Layer creates one more vector for \"UNKNOWN\" words. \n",
        "# This Vector is filled with zeros.\n",
        "# Thus the vocab size is increased by 1\n",
        "vocab_size = len(tokenizer.word_index) + 1\n",
        "\n",
        "# To create weight matrix from word2vec gensim model\n",
        "def get_weight_matrix(model, vocab):\n",
        "    # total vocabulary size plus 0 for unknown words\n",
        "    vocab_size = len(vocab) + 1\n",
        "    # define weight matrix dimensions with all 0\n",
        "    weight_matrix = np.zeros((vocab_size, EMBEDDING_DIM))\n",
        "    # step vocab, store vectors using the Tokenizer's integer mapping\n",
        "    for word, i in vocab.items():\n",
        "        weight_matrix[i] = model[word]\n",
        "    return weight_matrix\n",
        "\n",
        "#Getting embedding vectors from word2vec and using the vectors as weights for later embedding \n",
        "embedding_vectors = get_weight_matrix(w2v_model, tokenizer.word_index)"
      ],
      "execution_count": 21,
      "outputs": [
        {
          "output_type": "stream",
          "text": [
            "/usr/local/lib/python3.7/dist-packages/ipykernel_launcher.py:23: DeprecationWarning: Call to deprecated `__getitem__` (Method will be removed in 4.0.0, use self.wv.__getitem__() instead).\n"
          ],
          "name": "stderr"
        },
        {
          "output_type": "stream",
          "text": [
            "CPU times: user 16.1 s, sys: 326 ms, total: 16.4 s\n",
            "Wall time: 16.3 s\n"
          ],
          "name": "stdout"
        }
      ]
    },
    {
      "cell_type": "code",
      "metadata": {
        "id": "NlLv88jO17V0"
      },
      "source": [
        "#Set up the CNN\n",
        "cnn_model = Sequential()\n",
        "cnn_model.add(Embedding(vocab_size, output_dim=EMBEDDING_DIM, weights=[embedding_vectors], input_length=MAX_SEQUENCE_LENGTH, trainable=False))\n",
        "cnn_model.add(Conv1D(filters=128, kernel_size=5, activation='relu'))\n",
        "cnn_model.add(MaxPooling1D(4))\n",
        "cnn_model.add(Dropout(0.3))\n",
        "cnn_model.add(Conv1D(filters=64, kernel_size=5, activation='relu'))\n",
        "cnn_model.add(MaxPooling1D(4))\n",
        "cnn_model.add(Dropout(0.3))\n",
        "cnn_model.add(Flatten())\n",
        "cnn_model.add(Dense(units = 128 , activation = 'relu'))\n",
        "cnn_model.add(Dense(1, activation='sigmoid'))\n",
        "cnn_model.compile(optimizer='adam', loss='binary_crossentropy', metrics=['accuracy'])"
      ],
      "execution_count": 22,
      "outputs": []
    },
    {
      "cell_type": "code",
      "metadata": {
        "colab": {
          "base_uri": "https://localhost:8080/"
        },
        "id": "8f4fhEzGZXAx",
        "outputId": "1637ecac-0a8c-4aa9-aad9-e6f53788d56e"
      },
      "source": [
        "cnn_model.summary()"
      ],
      "execution_count": 23,
      "outputs": [
        {
          "output_type": "stream",
          "text": [
            "Model: \"sequential\"\n",
            "_________________________________________________________________\n",
            "Layer (type)                 Output Shape              Param #   \n",
            "=================================================================\n",
            "embedding (Embedding)        (None, 500, 200)          40450000  \n",
            "_________________________________________________________________\n",
            "conv1d (Conv1D)              (None, 496, 128)          128128    \n",
            "_________________________________________________________________\n",
            "max_pooling1d (MaxPooling1D) (None, 124, 128)          0         \n",
            "_________________________________________________________________\n",
            "dropout (Dropout)            (None, 124, 128)          0         \n",
            "_________________________________________________________________\n",
            "conv1d_1 (Conv1D)            (None, 120, 64)           41024     \n",
            "_________________________________________________________________\n",
            "max_pooling1d_1 (MaxPooling1 (None, 30, 64)            0         \n",
            "_________________________________________________________________\n",
            "dropout_1 (Dropout)          (None, 30, 64)            0         \n",
            "_________________________________________________________________\n",
            "flatten (Flatten)            (None, 1920)              0         \n",
            "_________________________________________________________________\n",
            "dense (Dense)                (None, 128)               245888    \n",
            "_________________________________________________________________\n",
            "dense_1 (Dense)              (None, 1)                 129       \n",
            "=================================================================\n",
            "Total params: 40,865,169\n",
            "Trainable params: 415,169\n",
            "Non-trainable params: 40,450,000\n",
            "_________________________________________________________________\n"
          ],
          "name": "stdout"
        }
      ]
    },
    {
      "cell_type": "code",
      "metadata": {
        "id": "hhapSwIU3R-U"
      },
      "source": [
        "y = all_news.is_fake\n",
        "\n",
        "#Train-Test Split\n",
        "train_x, test_x, train_y, test_y = train_test_split(x, y, test_size=.2, random_state=42)\n",
        "#Train-validation Split  (train-70%, validation 10% and test 20%)\n",
        "train_x, val_x, train_y, val_y = train_test_split(train_x, train_y, test_size=.125, random_state=42)"
      ],
      "execution_count": 24,
      "outputs": []
    },
    {
      "cell_type": "code",
      "metadata": {
        "colab": {
          "base_uri": "https://localhost:8080/"
        },
        "id": "51XrivjQ2wTJ",
        "outputId": "52a6e0a6-4596-48d1-dcd9-12972435bb3f"
      },
      "source": [
        "#Train the model \n",
        "%%time\n",
        "cnn_model.fit(train_x, train_y, batch_size = 128 , validation_data = (val_x,val_y) , epochs = 2)"
      ],
      "execution_count": 25,
      "outputs": [
        {
          "output_type": "stream",
          "text": [
            "Epoch 1/2\n",
            "246/246 [==============================] - 214s 867ms/step - loss: 0.4648 - accuracy: 0.8140 - val_loss: 0.0606 - val_accuracy: 0.9811\n",
            "Epoch 2/2\n",
            "246/246 [==============================] - 212s 863ms/step - loss: 0.0567 - accuracy: 0.9806 - val_loss: 0.0388 - val_accuracy: 0.9862\n",
            "CPU times: user 13min 37s, sys: 6.12 s, total: 13min 43s\n",
            "Wall time: 7min 6s\n"
          ],
          "name": "stdout"
        },
        {
          "output_type": "execute_result",
          "data": {
            "text/plain": [
              "<tensorflow.python.keras.callbacks.History at 0x7f5cb0235b50>"
            ]
          },
          "metadata": {
            "tags": []
          },
          "execution_count": 25
        }
      ]
    },
    {
      "cell_type": "code",
      "metadata": {
        "colab": {
          "base_uri": "https://localhost:8080/"
        },
        "id": "-3ewy5sXqtEU",
        "outputId": "04a08c33-df8d-4d73-8ede-f68940d4ee8f"
      },
      "source": [
        "#Prediction\n",
        "cnn_pred = (cnn_model.predict(test_x) > 0.5).astype(\"int\")\n",
        "\n",
        "print(classification_report(test_y, cnn_pred))"
      ],
      "execution_count": 26,
      "outputs": [
        {
          "output_type": "stream",
          "text": [
            "              precision    recall  f1-score   support\n",
            "\n",
            "           0       0.98      0.99      0.99      4330\n",
            "           1       0.99      0.98      0.99      4650\n",
            "\n",
            "    accuracy                           0.99      8980\n",
            "   macro avg       0.99      0.99      0.99      8980\n",
            "weighted avg       0.99      0.99      0.99      8980\n",
            "\n"
          ],
          "name": "stdout"
        }
      ]
    },
    {
      "cell_type": "markdown",
      "metadata": {
        "id": "oD5J3UMc5n-b"
      },
      "source": [
        "# Model 3 (word2vec + CNN LSTM)\n"
      ]
    },
    {
      "cell_type": "code",
      "metadata": {
        "id": "Anc9wee5ggCH"
      },
      "source": [
        "#Set up the LSTM network\n",
        "lstm_model = Sequential()\n",
        "lstm_model.add(Embedding(vocab_size, output_dim=EMBEDDING_DIM, weights=[embedding_vectors], input_length=MAX_SEQUENCE_LENGTH, trainable=False))\n",
        "lstm_model.add(Conv1D(filters=128, kernel_size=5, activation='relu'))\n",
        "lstm_model.add(MaxPooling1D(4))\n",
        "lstm_model.add(Dropout(0.1))\n",
        "lstm_model.add(Conv1D(filters=64, kernel_size=5, activation='relu'))\n",
        "lstm_model.add(MaxPooling1D(4))\n",
        "lstm_model.add(Dropout(0.1))\n",
        "lstm_model.add(LSTM(units=64))\n",
        "lstm_model.add(Dense(1, activation='sigmoid'))\n",
        "lstm_model.compile(optimizer='adam', loss='binary_crossentropy', metrics=['accuracy'])"
      ],
      "execution_count": 27,
      "outputs": []
    },
    {
      "cell_type": "code",
      "metadata": {
        "colab": {
          "base_uri": "https://localhost:8080/"
        },
        "id": "iAo8SaLihJN3",
        "outputId": "bb610ac4-78f1-414d-fe69-6bd9a584232a"
      },
      "source": [
        "lstm_model.summary()"
      ],
      "execution_count": 28,
      "outputs": [
        {
          "output_type": "stream",
          "text": [
            "Model: \"sequential_1\"\n",
            "_________________________________________________________________\n",
            "Layer (type)                 Output Shape              Param #   \n",
            "=================================================================\n",
            "embedding_1 (Embedding)      (None, 500, 200)          40450000  \n",
            "_________________________________________________________________\n",
            "conv1d_2 (Conv1D)            (None, 496, 128)          128128    \n",
            "_________________________________________________________________\n",
            "max_pooling1d_2 (MaxPooling1 (None, 124, 128)          0         \n",
            "_________________________________________________________________\n",
            "dropout_2 (Dropout)          (None, 124, 128)          0         \n",
            "_________________________________________________________________\n",
            "conv1d_3 (Conv1D)            (None, 120, 64)           41024     \n",
            "_________________________________________________________________\n",
            "max_pooling1d_3 (MaxPooling1 (None, 30, 64)            0         \n",
            "_________________________________________________________________\n",
            "dropout_3 (Dropout)          (None, 30, 64)            0         \n",
            "_________________________________________________________________\n",
            "lstm (LSTM)                  (None, 64)                33024     \n",
            "_________________________________________________________________\n",
            "dense_2 (Dense)              (None, 1)                 65        \n",
            "=================================================================\n",
            "Total params: 40,652,241\n",
            "Trainable params: 202,241\n",
            "Non-trainable params: 40,450,000\n",
            "_________________________________________________________________\n"
          ],
          "name": "stdout"
        }
      ]
    },
    {
      "cell_type": "code",
      "metadata": {
        "colab": {
          "base_uri": "https://localhost:8080/"
        },
        "id": "_y1_jSXag-Ee",
        "outputId": "61b078f3-7122-492c-ca23-84d6354e5784"
      },
      "source": [
        "#Train the model \n",
        "%%time\n",
        "lstm_model.fit(train_x, train_y, batch_size = 128 , validation_data = (val_x,val_y) , epochs = 2)"
      ],
      "execution_count": 29,
      "outputs": [
        {
          "output_type": "stream",
          "text": [
            "Epoch 1/2\n",
            "246/246 [==============================] - 224s 901ms/step - loss: 0.2199 - accuracy: 0.9121 - val_loss: 0.0498 - val_accuracy: 0.9837\n",
            "Epoch 2/2\n",
            "246/246 [==============================] - 220s 896ms/step - loss: 0.0370 - accuracy: 0.9889 - val_loss: 0.0421 - val_accuracy: 0.9851\n",
            "CPU times: user 14min 8s, sys: 5.85 s, total: 14min 14s\n",
            "Wall time: 7min 24s\n"
          ],
          "name": "stdout"
        },
        {
          "output_type": "execute_result",
          "data": {
            "text/plain": [
              "<tensorflow.python.keras.callbacks.History at 0x7f5ca9a92d10>"
            ]
          },
          "metadata": {
            "tags": []
          },
          "execution_count": 29
        }
      ]
    },
    {
      "cell_type": "code",
      "metadata": {
        "id": "tn1TBpHEiOxW"
      },
      "source": [
        "lstm_pred = (lstm_model.predict(test_x) > 0.5).astype(\"int\")"
      ],
      "execution_count": 30,
      "outputs": []
    },
    {
      "cell_type": "code",
      "metadata": {
        "colab": {
          "base_uri": "https://localhost:8080/"
        },
        "id": "75eV118zlJNM",
        "outputId": "0c81b23f-8603-447a-a148-44b130994e0a"
      },
      "source": [
        "print(classification_report(test_y, lstm_pred))"
      ],
      "execution_count": 31,
      "outputs": [
        {
          "output_type": "stream",
          "text": [
            "              precision    recall  f1-score   support\n",
            "\n",
            "           0       0.98      0.99      0.99      4330\n",
            "           1       0.99      0.98      0.99      4650\n",
            "\n",
            "    accuracy                           0.99      8980\n",
            "   macro avg       0.99      0.99      0.99      8980\n",
            "weighted avg       0.99      0.99      0.99      8980\n",
            "\n"
          ],
          "name": "stdout"
        }
      ]
    },
    {
      "cell_type": "markdown",
      "metadata": {
        "id": "Cjk0fKxz5n-b"
      },
      "source": [
        "# Summary"
      ]
    },
    {
      "cell_type": "markdown",
      "metadata": {
        "id": "9im4tbp22AD8"
      },
      "source": [
        "Here in this task, we have trained 3 classifcaiton models with two kinds of text processing setup:\n",
        "<br>\n",
        "1. TF-iDF processing + LightGBM\n",
        "2. word2vec processing + CNN\n",
        "3. word2vec processing + CNN LSTM"
      ]
    },
    {
      "cell_type": "markdown",
      "metadata": {
        "id": "pfmtlcY01tM9"
      },
      "source": [
        "Rationale for model 1:\n",
        "<br>\n",
        "In model 1, we chose TF-iDF processing, which is a technique to quantify a word  in news by computing the weights with respect to the news and the corpus. It is a common method in Text Mining. After quantifying, we used LightGBM to process the classification task. LightGBM is a framework designed for fast training speed and high efficiency, hence the running time of model 1 is significantly faster than model 2 and model 3."
      ]
    },
    {
      "cell_type": "markdown",
      "metadata": {
        "id": "K3ESTIHg5JnN"
      },
      "source": [
        "Rationale for model 2:\n",
        "<br>\n",
        "In this model, we used another text-processing setup, word2vec.  Word2vec is one kind of word-embedding which generates word vectors to capture semantic similarity, rather than just computing weight in TF-iDF. After processing, we used one type of  neural networks, CNN,to do the classification task. CNN usually works well on text and images."
      ]
    },
    {
      "cell_type": "markdown",
      "metadata": {
        "id": "Y2K5OE4l7pYS"
      },
      "source": [
        "Rationale for model 3:\n",
        "<br>\n",
        "The main addition element of model 3 is that LSTM  is being added. Therefore, the architecture of model 3 could be viewed as using CNN layer for feature extraction combined with LSTM to support the sequence prediction.\n"
      ]
    },
    {
      "cell_type": "markdown",
      "metadata": {
        "id": "6MRLtt_PHlkz"
      },
      "source": [
        "Result Summary (F1-score):\n",
        "<br>\n",
        "1. Model 1: 97%\n",
        "2. Modle 2: 99%\n",
        "3. Model 3: 99%"
      ]
    },
    {
      "cell_type": "code",
      "metadata": {
        "colab": {
          "base_uri": "https://localhost:8080/",
          "height": 338
        },
        "id": "HYEHmaiZVpHH",
        "outputId": "2da78b59-f474-4dbd-cd31-1abbe29e5322"
      },
      "source": [
        "fig, axes = plt.subplots(1, 3, figsize=(20, 5))\n",
        "sns.heatmap(confusion_matrix(test_y, predict_lgb), annot=True, cmap='Blues', fmt='g', ax=axes[0])\n",
        "axes[0].set(xlabel='Predicted', ylabel='True', title ='Model_1')\n",
        "sns.heatmap(confusion_matrix(test_y, cnn_pred), annot=True, cmap='Blues', fmt='g', ax=axes[1])\n",
        "axes[1].set(xlabel='Predicted', ylabel='True', title ='Model_2')\n",
        "sns.heatmap(confusion_matrix(test_y, lstm_pred), annot=True, cmap='Blues', fmt='g', ax=axes[2])\n",
        "axes[2].set(xlabel='Predicted', ylabel='True', title ='Model_3')\n",
        "\n",
        "plt.show()"
      ],
      "execution_count": 32,
      "outputs": [
        {
          "output_type": "display_data",
          "data": {
            "image/png": "[encoded data removed]",
            "text/plain": [
              "<Figure size 1440x360 with 6 Axes>"
            ]
          },
          "metadata": {
            "tags": [],
            "needs_background": "light"
          }
        }
      ]
    },
    {
      "cell_type": "markdown",
      "metadata": {
        "id": "U0MuJf9IU80H"
      },
      "source": [
        "We could see that all 3 models perform well with this task. \n",
        "<br>\n",
        "In terms of training time, model 1 (TF-iDF processing + LightGBM) is the fastest one.\n",
        "<br>\n",
        "Meanwhile, the test result from Model 2 and Model 3 is  better than that from Model 1.\n",
        "<br>\n",
        "Therefore, if timing is a concern, model 1 could be the best option among these 3 models.\n",
        "<br>\n",
        "If we want to put more focus on semantic similarity as well as sequence, model 3 would be the best suitable one for further refinement."
      ]
    },
    {
      "cell_type": "markdown",
      "metadata": {
        "id": "QbQR_zKoxNUT"
      },
      "source": [
        "# Deployment"
      ]
    },
    {
      "cell_type": "markdown",
      "metadata": {
        "id": "12JUEbA110LW"
      },
      "source": [
        "## Model 1"
      ]
    },
    {
      "cell_type": "code",
      "metadata": {
        "id": "E0BHfJojrGwm"
      },
      "source": [
        "#To deploy model\n",
        "import pickle\n",
        "pickle.dump(tfidf, open(\"tfidf.pickle\", \"wb\"))\n",
        "loaded_tfidf = pickle.load(open(\"tfidf.pickle\", \"rb\"))"
      ],
      "execution_count": 33,
      "outputs": []
    },
    {
      "cell_type": "code",
      "metadata": {
        "id": "FPnjF-5_1YgP"
      },
      "source": [
        "pickle.dump(lgb_model, open(\"lgb_model.pickle\", \"wb\"))\n",
        "loaded_lgb_model = pickle.load(open(\"lgb_model.pickle\", \"rb\"))"
      ],
      "execution_count": 34,
      "outputs": []
    },
    {
      "cell_type": "code",
      "metadata": {
        "colab": {
          "base_uri": "https://localhost:8080/"
        },
        "id": "uCFyryc0rGy_",
        "outputId": "846ead16-e51a-4395-fc81-bf5c11da972a"
      },
      "source": [
        "#fake_news_testing\n",
        "new_text = [\"Her scream silenced the rowdy teenagers. Traveling became almost extinct during the pandemic. She lived on Monkey Jungle Road and that seemed to explain all of her strangeness. Facing his greatest fear, he ate his first marshmallow. Sometimes, all you need to do is completely make an ass of yourself and laugh it off to realise that life isn’t so bad after all. They say that dogs are man's best friend, but this cat was setting out to sabotage that theory. Today is the day I'll finally know what brick tastes like. They were excited to see their first sloth.\"]\n",
        "new_text_processed = get_cleaned_data(new_text, mode='non-df')\n",
        "new_test = loaded_tfidf.transform(new_text_processed['text'])\n",
        "print(loaded_lgb_model.predict_proba(new_test))"
      ],
      "execution_count": 35,
      "outputs": [
        {
          "output_type": "stream",
          "text": [
            "[[0.05481329 0.94518671]]\n"
          ],
          "name": "stdout"
        }
      ]
    },
    {
      "cell_type": "code",
      "metadata": {
        "colab": {
          "base_uri": "https://localhost:8080/"
        },
        "id": "uSuPKD97rG_m",
        "outputId": "ed1c5416-509b-4b1e-c335-011dc38ad671"
      },
      "source": [
        "#real_nbews_testing\n",
        "#need to remove ' or \" at first to avoid bug\n",
        "new_text = ['Walter Mondale, a leading liberal Democratic voice of the late 20th century who was U.S. vice president under Jimmy Carter and lost in a landslide to Ronald Reagan in the 1984 presidential election, died on Monday at age 93, his family said. \"Well my time has come. I am eager to rejoin Joan and Eleanor,\" Mondale said in a statement to his staff and released to the public after his death, referring to his late wife Joan, who died in 2014, and daughter Eleanor, who died in 2011 at age 51. \"Before I go I wanted to let you know how much you mean to me. Mondale, the first major U.S. party presidential nominee to pick a woman running mate, believed in an activist government and worked for civil rights, school integration, consumer protection and farm and labor interests as a U.S. senator and vice president during Carters troubled one-term presidency from 1977 to 1981. He also served as U.S. ambassador to Japan from 1993 to 1996 under Bill Clinton.']\n",
        "new_text_processed = get_cleaned_data(new_text, mode='non-df')\n",
        "new_test = loaded_tfidf.transform(new_text_processed['text'])\n",
        "print(loaded_lgb_model.predict_proba(new_test))"
      ],
      "execution_count": 36,
      "outputs": [
        {
          "output_type": "stream",
          "text": [
            "[[0.7283103 0.2716897]]\n"
          ],
          "name": "stdout"
        }
      ]
    },
    {
      "cell_type": "code",
      "metadata": {
        "id": "ZdWLQkQUyNo1"
      },
      "source": [
        ""
      ],
      "execution_count": 36,
      "outputs": []
    },
    {
      "cell_type": "code",
      "metadata": {
        "id": "7ZqU15Tuh0TM"
      },
      "source": [
        ""
      ],
      "execution_count": 36,
      "outputs": []
    }
  ]
}