{
  "nbformat": 4,
  "nbformat_minor": 0,
  "metadata": {
    "colab": {
      "name": "Part_2_NLP_modelling.ipynb",
      "provenance": [],
      "collapsed_sections": [],
      "toc_visible": true,
      "include_colab_link": true
    },
    "kernelspec": {
      "display_name": "Python 3",
      "name": "python3"
    },
    "language_info": {
      "name": "python"
    }
  },
  "cells": [
    {
      "cell_type": "markdown",
      "metadata": {
        "id": "view-in-github",
        "colab_type": "text"
      },
      "source": [
        "<a href=\"https://colab.research.google.com/github/brainy-data/fake_news_detection/blob/main/Modelling.ipynb\" target=\"_parent\"><img src=\"https://colab.research.google.com/assets/colab-badge.svg\" alt=\"Open In Colab\"/></a>"
      ]
    },
    {
      "cell_type": "code",
      "metadata": {
        "colab": {
          "base_uri": "https://localhost:8080/"
        },
        "id": "70igPTI4AAdo",
        "outputId": "1508f17d-9518-41db-938e-c5e60c710fc0"
      },
      "source": [
        "#import csv\n",
        "#this part was done on Google Colab\n",
        "!gdown --id 1L5o2fVXibffuzWepsKljbO8KfEgdixjY\n",
        "!gdown --id 11LL7r7YePq_lpa_14z4DDb68TVRM0E2w"
      ],
      "execution_count": 1,
      "outputs": [
        {
          "output_type": "stream",
          "text": [
            "Downloading...\n",
            "From: https://drive.google.com/uc?id=1L5o2fVXibffuzWepsKljbO8KfEgdixjY\n",
            "To: /content/Fake.csv\n",
            "62.8MB [00:00, 94.2MB/s]\n",
            "Downloading...\n",
            "From: https://drive.google.com/uc?id=11LL7r7YePq_lpa_14z4DDb68TVRM0E2w\n",
            "To: /content/True.csv\n",
            "53.6MB [00:00, 94.8MB/s]\n"
          ],
          "name": "stdout"
        }
      ]
    },
    {
      "cell_type": "markdown",
      "metadata": {
        "id": "H-Gi-hgy5n9-"
      },
      "source": [
        "# Library and Data Import"
      ]
    },
    {
      "cell_type": "code",
      "metadata": {
        "colab": {
          "base_uri": "https://localhost:8080/"
        },
        "id": "XU02sc8b5n-O",
        "outputId": "5fd0dfd2-aad9-4a15-d9f0-6aeecc53fab7"
      },
      "source": [
        "# Library Import\n",
        "\n",
        "import gensim\n",
        "import keras\n",
        "import lightgbm as lgb\n",
        "import matplotlib.pyplot as plt\n",
        "import nltk\n",
        "import numpy as np\n",
        "import pandas as pd\n",
        "import re\n",
        "import seaborn as sns\n",
        "import tensorflow as tf\n",
        "import tensorflow_hub as hub\n",
        "\n",
        "\n",
        "from keras.preprocessing import text, sequence\n",
        "from keras.models import Sequential\n",
        "from keras.layers import Dense,Embedding,LSTM,Dropout,Bidirectional,GRU\n",
        "from keras.layers import Input, GlobalMaxPooling1D, LSTM\n",
        "from keras.layers import Conv1D, MaxPooling1D,Activation, Flatten\n",
        "\n",
        "from nltk.corpus import stopwords\n",
        "from nltk.tokenize import word_tokenize\n",
        "from nltk.stem import WordNetLemmatizer\n",
        "\n",
        "from sklearn import metrics\n",
        "from sklearn.feature_extraction.text import TfidfVectorizer\n",
        "from sklearn.metrics import confusion_matrix\n",
        "from sklearn.metrics import classification_report\n",
        "from sklearn.model_selection import train_test_split\n",
        "from tensorflow.keras import layers\n",
        "\n",
        "nltk.download('punkt')\n",
        "nltk.download('stopwords')\n",
        "nltk.download('wordnet')\n",
        "nltk.download('words')\n",
        "wordnet_lemmatizer = WordNetLemmatizer()"
      ],
      "execution_count": 2,
      "outputs": [
        {
          "output_type": "stream",
          "text": [
            "[nltk_data] Downloading package punkt to /root/nltk_data...\n",
            "[nltk_data]   Unzipping tokenizers/punkt.zip.\n",
            "[nltk_data] Downloading package stopwords to /root/nltk_data...\n",
            "[nltk_data]   Unzipping corpora/stopwords.zip.\n",
            "[nltk_data] Downloading package wordnet to /root/nltk_data...\n",
            "[nltk_data]   Unzipping corpora/wordnet.zip.\n",
            "[nltk_data] Downloading package words to /root/nltk_data...\n",
            "[nltk_data]   Unzipping corpora/words.zip.\n"
          ],
          "name": "stdout"
        }
      ]
    },
    {
      "cell_type": "code",
      "metadata": {
        "id": "_MjiYrK05n-R"
      },
      "source": [
        "# Data Load\n",
        "real_news = pd.read_csv('True.csv')\n",
        "fake_news = pd.read_csv('Fake.csv')"
      ],
      "execution_count": 3,
      "outputs": []
    },
    {
      "cell_type": "code",
      "metadata": {
        "colab": {
          "base_uri": "https://localhost:8080/"
        },
        "id": "Dfn0I5R-5n-S",
        "outputId": "1a086864-ec22-4e6d-bed1-acdae1dc25c5"
      },
      "source": [
        "real_news.shape, fake_news.shape"
      ],
      "execution_count": 4,
      "outputs": [
        {
          "output_type": "execute_result",
          "data": {
            "text/plain": [
              "((21417, 4), (23481, 4))"
            ]
          },
          "metadata": {
            "tags": []
          },
          "execution_count": 4
        }
      ]
    },
    {
      "cell_type": "markdown",
      "metadata": {
        "id": "i_hQyirn5n-S"
      },
      "source": [
        "Here we noted that there are more than 20k real news articles and fake news articles.\n",
        "<br>\n",
        "It could be considered as a rather balanced dataset."
      ]
    },
    {
      "cell_type": "code",
      "metadata": {
        "colab": {
          "base_uri": "https://localhost:8080/",
          "height": 204
        },
        "id": "w-ignp7F5n-T",
        "outputId": "7c176b40-56fb-428d-b090-49de84ddb48b"
      },
      "source": [
        "real_news.head()"
      ],
      "execution_count": 5,
      "outputs": [
        {
          "output_type": "execute_result",
          "data": {
            "text/html": [
              "<div>\n",
              "<style scoped>\n",
              "    .dataframe tbody tr th:only-of-type {\n",
              "        vertical-align: middle;\n",
              "    }\n",
              "\n",
              "    .dataframe tbody tr th {\n",
              "        vertical-align: top;\n",
              "    }\n",
              "\n",
              "    .dataframe thead th {\n",
              "        text-align: right;\n",
              "    }\n",
              "</style>\n",
              "<table border=\"1\" class=\"dataframe\">\n",
              "  <thead>\n",
              "    <tr style=\"text-align: right;\">\n",
              "      <th></th>\n",
              "      <th>title</th>\n",
              "      <th>text</th>\n",
              "      <th>subject</th>\n",
              "      <th>date</th>\n",
              "    </tr>\n",
              "  </thead>\n",
              "  <tbody>\n",
              "    <tr>\n",
              "      <th>0</th>\n",
              "      <td>As U.S. budget fight looms, Republicans flip t...</td>\n",
              "      <td>WASHINGTON (Reuters) - The head of a conservat...</td>\n",
              "      <td>politicsNews</td>\n",
              "      <td>December 31, 2017</td>\n",
              "    </tr>\n",
              "    <tr>\n",
              "      <th>1</th>\n",
              "      <td>U.S. military to accept transgender recruits o...</td>\n",
              "      <td>WASHINGTON (Reuters) - Transgender people will...</td>\n",
              "      <td>politicsNews</td>\n",
              "      <td>December 29, 2017</td>\n",
              "    </tr>\n",
              "    <tr>\n",
              "      <th>2</th>\n",
              "      <td>Senior U.S. Republican senator: 'Let Mr. Muell...</td>\n",
              "      <td>WASHINGTON (Reuters) - The special counsel inv...</td>\n",
              "      <td>politicsNews</td>\n",
              "      <td>December 31, 2017</td>\n",
              "    </tr>\n",
              "    <tr>\n",
              "      <th>3</th>\n",
              "      <td>FBI Russia probe helped by Australian diplomat...</td>\n",
              "      <td>WASHINGTON (Reuters) - Trump campaign adviser ...</td>\n",
              "      <td>politicsNews</td>\n",
              "      <td>December 30, 2017</td>\n",
              "    </tr>\n",
              "    <tr>\n",
              "      <th>4</th>\n",
              "      <td>Trump wants Postal Service to charge 'much mor...</td>\n",
              "      <td>SEATTLE/WASHINGTON (Reuters) - President Donal...</td>\n",
              "      <td>politicsNews</td>\n",
              "      <td>December 29, 2017</td>\n",
              "    </tr>\n",
              "  </tbody>\n",
              "</table>\n",
              "</div>"
            ],
            "text/plain": [
              "                                               title  ...                date\n",
              "0  As U.S. budget fight looms, Republicans flip t...  ...  December 31, 2017 \n",
              "1  U.S. military to accept transgender recruits o...  ...  December 29, 2017 \n",
              "2  Senior U.S. Republican senator: 'Let Mr. Muell...  ...  December 31, 2017 \n",
              "3  FBI Russia probe helped by Australian diplomat...  ...  December 30, 2017 \n",
              "4  Trump wants Postal Service to charge 'much mor...  ...  December 29, 2017 \n",
              "\n",
              "[5 rows x 4 columns]"
            ]
          },
          "metadata": {
            "tags": []
          },
          "execution_count": 5
        }
      ]
    },
    {
      "cell_type": "markdown",
      "metadata": {
        "id": "RvbqbCvw5n-T"
      },
      "source": [
        "# Data Pre-processing"
      ]
    },
    {
      "cell_type": "code",
      "metadata": {
        "id": "OJOqg5iT5n-U"
      },
      "source": [
        "# assign the label of fakes news to the dataset\n",
        "# 'is_fake'= 1 for fake news articles and ‘is_fake' =0 for real news articles\n",
        "\n",
        "real_news['is_fake'] = 0\n",
        "fake_news['is_fake'] = 1\n",
        "\n",
        "# Hence we concat these two dataframes\n",
        "all_news = real_news.append(fake_news,  ignore_index=True)"
      ],
      "execution_count": 6,
      "outputs": []
    },
    {
      "cell_type": "markdown",
      "metadata": {
        "id": "YdD-VAal5n-U"
      },
      "source": [
        "The Kaggle Blog over here points out the problem of data leakage in this dataset.\n",
        "https://www.kaggle.com/mosewintner/5-data-leaks-100-acc-1-word-99-6-acc/comments (for more details)\n",
        "<br>\n",
        "The problems inlcude the presence of the string (Reuters)in text column,the distribution of subject and the date itself and URLs in date column. \n",
        "<br>\n",
        "In order to have a more fair dataset setting, here in this dataset we would drop the subject and date column as well as removing the word (Reuters) in the text."
      ]
    },
    {
      "cell_type": "code",
      "metadata": {
        "id": "pmaZGtS65n-V"
      },
      "source": [
        "# Drop the column of subject and date as per the reason stated above\n",
        "all_news = all_news.drop(columns=['subject', 'date'])\n",
        "\n",
        "#Also, we want to remove the presence of string '(Reuters)'\n",
        "all_news['text'] = all_news['text'].str.replace('\\(Reuters\\)', '')\n"
      ],
      "execution_count": 7,
      "outputs": []
    },
    {
      "cell_type": "code",
      "metadata": {
        "colab": {
          "base_uri": "https://localhost:8080/"
        },
        "id": "pUx0kWTI5n-V",
        "outputId": "dd504bd6-9e1e-430a-daa9-a32f55f84a2f"
      },
      "source": [
        "all_news.shape"
      ],
      "execution_count": 8,
      "outputs": [
        {
          "output_type": "execute_result",
          "data": {
            "text/plain": [
              "(44898, 3)"
            ]
          },
          "metadata": {
            "tags": []
          },
          "execution_count": 8
        }
      ]
    },
    {
      "cell_type": "markdown",
      "metadata": {
        "id": "_TexQHVr5n-W"
      },
      "source": [
        "Here we propose to have 3 different models for this binary text-classfication:\n",
        "<br>\n",
        "1. TF-iDF processing + LightGBM\n",
        "2. word2vec processing + CNN\n",
        "3. word2vec processing + CNN LSTM"
      ]
    },
    {
      "cell_type": "code",
      "metadata": {
        "id": "qLMmdJ2w5n-W"
      },
      "source": [
        "#Define a function to conduct common word-preprocessing operations (e.g. lowercase, remove stopwords and remove punctuationetc.)\n",
        "#Convert X to format accepatable to further processing\n",
        "#This function is referenced from https://www.kaggle.com/rahulkumarpatro/fake-vs-real-news-classification-lstm-word2vec\n",
        "\n",
        "def get_cleaned_data(input_data, mode='df'):\n",
        "    stop = stopwords.words('english')\n",
        "    \n",
        "    input_df = ''\n",
        "    \n",
        "    if mode != 'df':\n",
        "        input_df = pd.DataFrame([input_data], columns=['text'])\n",
        "    else:\n",
        "        input_df = input_data       \n",
        "    #lowercase the text\n",
        "    input_df['text'] = input_df['text'].str.lower()    \n",
        "    #remove special characters\n",
        "    input_df['text'] = input_df['text'].apply(lambda elem: re.sub(r\"(@[A-Za-z0-9]+)|([^0-9A-Za-z \\t])|(\\w+:\\/\\/\\S+)|^rt|http.+?\", \"\", elem))    \n",
        "    # remove numbers\n",
        "    input_df['text'] = input_df['text'].apply(lambda elem: re.sub(r\"\\d+\", \"\", elem))    \n",
        "    #remove stopwords\n",
        "    input_df['text'] = input_df['text'].apply(lambda x: ' '.join([word.strip() for word in x.split() if word not in (stop)]))\n",
        "    \n",
        "    input_df['text'] = input_df['text'].apply(lambda words: (wordnet_lemmatizer.lemmatize(words)))\n",
        "    \n",
        "    return input_df"
      ],
      "execution_count": 9,
      "outputs": []
    },
    {
      "cell_type": "code",
      "metadata": {
        "id": "QHgyoDkE5n-X"
      },
      "source": [
        "all_news = get_cleaned_data(all_news)"
      ],
      "execution_count": 10,
      "outputs": []
    },
    {
      "cell_type": "code",
      "metadata": {
        "colab": {
          "base_uri": "https://localhost:8080/",
          "height": 142
        },
        "id": "XQ_DsnSt5n-X",
        "outputId": "8e8b0034-7d0f-4279-eacc-dac89afde7e4"
      },
      "source": [
        "all_news.head(3)"
      ],
      "execution_count": 11,
      "outputs": [
        {
          "output_type": "execute_result",
          "data": {
            "text/html": [
              "<div>\n",
              "<style scoped>\n",
              "    .dataframe tbody tr th:only-of-type {\n",
              "        vertical-align: middle;\n",
              "    }\n",
              "\n",
              "    .dataframe tbody tr th {\n",
              "        vertical-align: top;\n",
              "    }\n",
              "\n",
              "    .dataframe thead th {\n",
              "        text-align: right;\n",
              "    }\n",
              "</style>\n",
              "<table border=\"1\" class=\"dataframe\">\n",
              "  <thead>\n",
              "    <tr style=\"text-align: right;\">\n",
              "      <th></th>\n",
              "      <th>title</th>\n",
              "      <th>text</th>\n",
              "      <th>is_fake</th>\n",
              "    </tr>\n",
              "  </thead>\n",
              "  <tbody>\n",
              "    <tr>\n",
              "      <th>0</th>\n",
              "      <td>As U.S. budget fight looms, Republicans flip t...</td>\n",
              "      <td>washington head conservative republican factio...</td>\n",
              "      <td>0</td>\n",
              "    </tr>\n",
              "    <tr>\n",
              "      <th>1</th>\n",
              "      <td>U.S. military to accept transgender recruits o...</td>\n",
              "      <td>washington transgender people allowed first ti...</td>\n",
              "      <td>0</td>\n",
              "    </tr>\n",
              "    <tr>\n",
              "      <th>2</th>\n",
              "      <td>Senior U.S. Republican senator: 'Let Mr. Muell...</td>\n",
              "      <td>washington special counsel investigation links...</td>\n",
              "      <td>0</td>\n",
              "    </tr>\n",
              "  </tbody>\n",
              "</table>\n",
              "</div>"
            ],
            "text/plain": [
              "                                               title  ... is_fake\n",
              "0  As U.S. budget fight looms, Republicans flip t...  ...       0\n",
              "1  U.S. military to accept transgender recruits o...  ...       0\n",
              "2  Senior U.S. Republican senator: 'Let Mr. Muell...  ...       0\n",
              "\n",
              "[3 rows x 3 columns]"
            ]
          },
          "metadata": {
            "tags": []
          },
          "execution_count": 11
        }
      ]
    },
    {
      "cell_type": "markdown",
      "metadata": {
        "id": "eQ2Dc2b15n-Z"
      },
      "source": [
        "# Model 1 (TF-iDF + LightGBM)"
      ]
    },
    {
      "cell_type": "code",
      "metadata": {
        "colab": {
          "base_uri": "https://localhost:8080/"
        },
        "id": "S9R7n0_85n-Z",
        "outputId": "50d31df4-7b05-4cb3-9e71-0e6b0d487c60"
      },
      "source": [
        "%%time\n",
        "#create the tfidf-vectorizer\n",
        "tfidf = TfidfVectorizer(strip_accents='ascii', ngram_range=(1,2), max_features=1000)\n",
        "\n",
        "X_text = tfidf.fit_transform(all_news['text'])\n",
        "y = all_news.is_fake"
      ],
      "execution_count": 12,
      "outputs": [
        {
          "output_type": "stream",
          "text": [
            "CPU times: user 47.5 s, sys: 1.44 s, total: 49 s\n",
            "Wall time: 49.1 s\n"
          ],
          "name": "stdout"
        }
      ]
    },
    {
      "cell_type": "code",
      "metadata": {
        "id": "mEj3FxVd5n-Z"
      },
      "source": [
        "#Train-Test Split\n",
        "train_x, test_x, train_y, test_y = train_test_split(X_text, y, test_size=.2, random_state=42)\n",
        "#Train-validation Split  (train-70%, validation 10% and test 20%)\n",
        "train_x, val_x, train_y, val_y = train_test_split(train_x, train_y, test_size=.125, random_state=42)"
      ],
      "execution_count": 13,
      "outputs": []
    },
    {
      "cell_type": "code",
      "metadata": {
        "colab": {
          "base_uri": "https://localhost:8080/"
        },
        "id": "z8IQglv_5n-a",
        "outputId": "ec4e3849-cede-4436-f309-c6f61441be61"
      },
      "source": [
        "%%time\n",
        "# LightGBM parameter\n",
        "parameters = {'num_leaves':20, 'max_depth':8,\n",
        "              'objective':'binary', 'metric':'logloss',\n",
        "              'learning_rate':0.05, 'n_jobs': -1,\n",
        "              'n_estimators':100}\n",
        "\n",
        "# LightGBM model\n",
        "lgb_model = lgb.LGBMClassifier(**parameters)\n",
        "\n",
        "lgb_model.fit(train_x, train_y, eval_set=[(val_x, val_y)],\n",
        "             early_stopping_rounds=100, eval_metric='logloss', verbose=100)"
      ],
      "execution_count": 14,
      "outputs": [
        {
          "output_type": "stream",
          "text": [
            "Training until validation scores don't improve for 100 rounds.\n",
            "[100]\tvalid_0's binary_logloss: 0.115979\n",
            "Did not meet early stopping. Best iteration is:\n",
            "[100]\tvalid_0's binary_logloss: 0.115979\n",
            "CPU times: user 36.5 s, sys: 86.4 ms, total: 36.6 s\n",
            "Wall time: 18.7 s\n"
          ],
          "name": "stdout"
        }
      ]
    },
    {
      "cell_type": "code",
      "metadata": {
        "id": "lMAaCZFP5n-a"
      },
      "source": [
        "#Prediction\n",
        "predict_lgb = lgb_model.predict(test_x)"
      ],
      "execution_count": 15,
      "outputs": []
    },
    {
      "cell_type": "code",
      "metadata": {
        "colab": {
          "base_uri": "https://localhost:8080/"
        },
        "id": "aEdwuoo25n-a",
        "outputId": "fc8573a7-5cce-4223-e7e7-10a2e02036cf"
      },
      "source": [
        "print(classification_report(test_y, predict_lgb))"
      ],
      "execution_count": 16,
      "outputs": [
        {
          "output_type": "stream",
          "text": [
            "              precision    recall  f1-score   support\n",
            "\n",
            "           0       0.96      0.97      0.97      4330\n",
            "           1       0.97      0.96      0.97      4650\n",
            "\n",
            "    accuracy                           0.97      8980\n",
            "   macro avg       0.97      0.97      0.97      8980\n",
            "weighted avg       0.97      0.97      0.97      8980\n",
            "\n"
          ],
          "name": "stdout"
        }
      ]
    },
    {
      "cell_type": "markdown",
      "metadata": {
        "id": "ZJQdn3qm5n-X"
      },
      "source": [
        "# Model 2 (word2vec + CNN)"
      ]
    },
    {
      "cell_type": "code",
      "metadata": {
        "colab": {
          "base_uri": "https://localhost:8080/",
          "height": 204
        },
        "id": "NJT_x_i9Mhrw",
        "outputId": "1ae1dbb7-1605-4c00-c486-dd3bb3e2de82"
      },
      "source": [
        "all_news.head()"
      ],
      "execution_count": 17,
      "outputs": [
        {
          "output_type": "execute_result",
          "data": {
            "text/html": [
              "<div>\n",
              "<style scoped>\n",
              "    .dataframe tbody tr th:only-of-type {\n",
              "        vertical-align: middle;\n",
              "    }\n",
              "\n",
              "    .dataframe tbody tr th {\n",
              "        vertical-align: top;\n",
              "    }\n",
              "\n",
              "    .dataframe thead th {\n",
              "        text-align: right;\n",
              "    }\n",
              "</style>\n",
              "<table border=\"1\" class=\"dataframe\">\n",
              "  <thead>\n",
              "    <tr style=\"text-align: right;\">\n",
              "      <th></th>\n",
              "      <th>title</th>\n",
              "      <th>text</th>\n",
              "      <th>is_fake</th>\n",
              "    </tr>\n",
              "  </thead>\n",
              "  <tbody>\n",
              "    <tr>\n",
              "      <th>0</th>\n",
              "      <td>As U.S. budget fight looms, Republicans flip t...</td>\n",
              "      <td>washington head conservative republican factio...</td>\n",
              "      <td>0</td>\n",
              "    </tr>\n",
              "    <tr>\n",
              "      <th>1</th>\n",
              "      <td>U.S. military to accept transgender recruits o...</td>\n",
              "      <td>washington transgender people allowed first ti...</td>\n",
              "      <td>0</td>\n",
              "    </tr>\n",
              "    <tr>\n",
              "      <th>2</th>\n",
              "      <td>Senior U.S. Republican senator: 'Let Mr. Muell...</td>\n",
              "      <td>washington special counsel investigation links...</td>\n",
              "      <td>0</td>\n",
              "    </tr>\n",
              "    <tr>\n",
              "      <th>3</th>\n",
              "      <td>FBI Russia probe helped by Australian diplomat...</td>\n",
              "      <td>washington trump campaign adviser george papad...</td>\n",
              "      <td>0</td>\n",
              "    </tr>\n",
              "    <tr>\n",
              "      <th>4</th>\n",
              "      <td>Trump wants Postal Service to charge 'much mor...</td>\n",
              "      <td>seattlewashington president donald trump calle...</td>\n",
              "      <td>0</td>\n",
              "    </tr>\n",
              "  </tbody>\n",
              "</table>\n",
              "</div>"
            ],
            "text/plain": [
              "                                               title  ... is_fake\n",
              "0  As U.S. budget fight looms, Republicans flip t...  ...       0\n",
              "1  U.S. military to accept transgender recruits o...  ...       0\n",
              "2  Senior U.S. Republican senator: 'Let Mr. Muell...  ...       0\n",
              "3  FBI Russia probe helped by Australian diplomat...  ...       0\n",
              "4  Trump wants Postal Service to charge 'much mor...  ...       0\n",
              "\n",
              "[5 rows x 3 columns]"
            ]
          },
          "metadata": {
            "tags": []
          },
          "execution_count": 17
        }
      ]
    },
    {
      "cell_type": "code",
      "metadata": {
        "id": "7RTT3mdq5n-Z"
      },
      "source": [
        "words = []\n",
        "\n",
        "for i in all_news.text.values:\n",
        "    words.append(i.split())"
      ],
      "execution_count": 18,
      "outputs": []
    },
    {
      "cell_type": "code",
      "metadata": {
        "colab": {
          "base_uri": "https://localhost:8080/"
        },
        "id": "H9iC6d2iUrVS",
        "outputId": "4f7ae5a4-89fe-4904-b533-48661c72a0f0"
      },
      "source": [
        "%%time\n",
        "# To generate 200 Dimension of vectors \n",
        "EMBEDDING_DIM = 200\n",
        "\n",
        "#Creating Word Vectors by Word2Vec Method\n",
        "w2v_model = gensim.models.Word2Vec(sentences = words , size=EMBEDDING_DIM , window = 5 , min_count = 1)"
      ],
      "execution_count": 19,
      "outputs": [
        {
          "output_type": "stream",
          "text": [
            "CPU times: user 5min 7s, sys: 1.47 s, total: 5min 9s\n",
            "Wall time: 3min 2s\n"
          ],
          "name": "stdout"
        }
      ]
    },
    {
      "cell_type": "code",
      "metadata": {
        "colab": {
          "base_uri": "https://localhost:8080/"
        },
        "id": "AtZ2P4P1YpDh",
        "outputId": "61b2daba-6157-4c15-ec34-a85a332a3636"
      },
      "source": [
        "len(w2v_model.wv.vocab)"
      ],
      "execution_count": 20,
      "outputs": [
        {
          "output_type": "execute_result",
          "data": {
            "text/plain": [
              "202249"
            ]
          },
          "metadata": {
            "tags": []
          },
          "execution_count": 20
        }
      ]
    },
    {
      "cell_type": "code",
      "metadata": {
        "colab": {
          "base_uri": "https://localhost:8080/"
        },
        "id": "c1q9v3Do1eib",
        "outputId": "22a9e2bc-cc9a-42b6-899e-4a6e20838e09"
      },
      "source": [
        "%%time\n",
        "MAX_SEQUENCE_LENGTH = 500\n",
        "\n",
        "tokenizer = text.Tokenizer(num_words=35000)\n",
        "tokenizer.fit_on_texts(words)\n",
        "tokenized_train = tokenizer.texts_to_sequences(words)\n",
        "x = sequence.pad_sequences(tokenized_train, maxlen = MAX_SEQUENCE_LENGTH)\n",
        "\n",
        "\n",
        "\n",
        "# Embedding Layer creates one more vector for \"UNKNOWN\" words. \n",
        "# This Vector is filled with zeros.\n",
        "# Thus the vocab size is increased by 1\n",
        "vocab_size = len(tokenizer.word_index) + 1\n",
        "\n",
        "# To create weight matrix from word2vec gensim model\n",
        "def get_weight_matrix(model, vocab):\n",
        "    # total vocabulary size plus 0 for unknown words\n",
        "    vocab_size = len(vocab) + 1\n",
        "    # define weight matrix dimensions with all 0\n",
        "    weight_matrix = np.zeros((vocab_size, EMBEDDING_DIM))\n",
        "    # step vocab, store vectors using the Tokenizer's integer mapping\n",
        "    for word, i in vocab.items():\n",
        "        weight_matrix[i] = model[word]\n",
        "    return weight_matrix\n",
        "\n",
        "#Getting embedding vectors from word2vec and using the vectors as weights for later embedding \n",
        "embedding_vectors = get_weight_matrix(w2v_model, tokenizer.word_index)"
      ],
      "execution_count": 21,
      "outputs": [
        {
          "output_type": "stream",
          "text": [
            "/usr/local/lib/python3.7/dist-packages/ipykernel_launcher.py:23: DeprecationWarning: Call to deprecated `__getitem__` (Method will be removed in 4.0.0, use self.wv.__getitem__() instead).\n"
          ],
          "name": "stderr"
        },
        {
          "output_type": "stream",
          "text": [
            "CPU times: user 17.7 s, sys: 343 ms, total: 18 s\n",
            "Wall time: 18 s\n"
          ],
          "name": "stdout"
        }
      ]
    },
    {
      "cell_type": "code",
      "metadata": {
        "id": "NlLv88jO17V0"
      },
      "source": [
        "#Set up the CNN\n",
        "cnn_model = Sequential()\n",
        "cnn_model.add(Embedding(vocab_size, output_dim=EMBEDDING_DIM, weights=[embedding_vectors], input_length=MAX_SEQUENCE_LENGTH, trainable=False))\n",
        "cnn_model.add(Conv1D(filters=128, kernel_size=5, activation='relu'))\n",
        "cnn_model.add(MaxPooling1D(4))\n",
        "cnn_model.add(Dropout(0.3))\n",
        "cnn_model.add(Conv1D(filters=64, kernel_size=5, activation='relu'))\n",
        "cnn_model.add(MaxPooling1D(4))\n",
        "cnn_model.add(Dropout(0.3))\n",
        "cnn_model.add(Flatten())\n",
        "cnn_model.add(Dense(units = 128 , activation = 'relu'))\n",
        "cnn_model.add(Dense(1, activation='sigmoid'))\n",
        "cnn_model.compile(optimizer='adam', loss='binary_crossentropy', metrics=['accuracy'])"
      ],
      "execution_count": 22,
      "outputs": []
    },
    {
      "cell_type": "code",
      "metadata": {
        "colab": {
          "base_uri": "https://localhost:8080/"
        },
        "id": "8f4fhEzGZXAx",
        "outputId": "11dc4a43-9b35-472b-d555-a68145246ee4"
      },
      "source": [
        "cnn_model.summary()"
      ],
      "execution_count": 23,
      "outputs": [
        {
          "output_type": "stream",
          "text": [
            "Model: \"sequential\"\n",
            "_________________________________________________________________\n",
            "Layer (type)                 Output Shape              Param #   \n",
            "=================================================================\n",
            "embedding (Embedding)        (None, 500, 200)          40450000  \n",
            "_________________________________________________________________\n",
            "conv1d (Conv1D)              (None, 496, 128)          128128    \n",
            "_________________________________________________________________\n",
            "max_pooling1d (MaxPooling1D) (None, 124, 128)          0         \n",
            "_________________________________________________________________\n",
            "dropout (Dropout)            (None, 124, 128)          0         \n",
            "_________________________________________________________________\n",
            "conv1d_1 (Conv1D)            (None, 120, 64)           41024     \n",
            "_________________________________________________________________\n",
            "max_pooling1d_1 (MaxPooling1 (None, 30, 64)            0         \n",
            "_________________________________________________________________\n",
            "dropout_1 (Dropout)          (None, 30, 64)            0         \n",
            "_________________________________________________________________\n",
            "flatten (Flatten)            (None, 1920)              0         \n",
            "_________________________________________________________________\n",
            "dense (Dense)                (None, 128)               245888    \n",
            "_________________________________________________________________\n",
            "dense_1 (Dense)              (None, 1)                 129       \n",
            "=================================================================\n",
            "Total params: 40,865,169\n",
            "Trainable params: 415,169\n",
            "Non-trainable params: 40,450,000\n",
            "_________________________________________________________________\n"
          ],
          "name": "stdout"
        }
      ]
    },
    {
      "cell_type": "code",
      "metadata": {
        "id": "hhapSwIU3R-U"
      },
      "source": [
        "y = all_news.is_fake\n",
        "\n",
        "#Train-Test Split\n",
        "train_x, test_x, train_y, test_y = train_test_split(x, y, test_size=.2, random_state=42)\n",
        "#Train-validation Split  (train-70%, validation 10% and test 20%)\n",
        "train_x, val_x, train_y, val_y = train_test_split(train_x, train_y, test_size=.125, random_state=42)"
      ],
      "execution_count": 24,
      "outputs": []
    },
    {
      "cell_type": "code",
      "metadata": {
        "colab": {
          "base_uri": "https://localhost:8080/"
        },
        "id": "51XrivjQ2wTJ",
        "outputId": "74610c40-1b42-418b-9685-c48b1181faf5"
      },
      "source": [
        "#Train the model \n",
        "%%time\n",
        "cnn_model.fit(train_x, train_y, batch_size = 128 , validation_data = (val_x,val_y) , epochs = 2)"
      ],
      "execution_count": 25,
      "outputs": [
        {
          "output_type": "stream",
          "text": [
            "Epoch 1/2\n",
            "246/246 [==============================] - 221s 894ms/step - loss: 0.5035 - accuracy: 0.7869 - val_loss: 0.0600 - val_accuracy: 0.9806\n",
            "Epoch 2/2\n",
            "246/246 [==============================] - 219s 889ms/step - loss: 0.0654 - accuracy: 0.9782 - val_loss: 0.0378 - val_accuracy: 0.9884\n",
            "CPU times: user 13min 56s, sys: 6.84 s, total: 14min 3s\n",
            "Wall time: 7min 19s\n"
          ],
          "name": "stdout"
        },
        {
          "output_type": "execute_result",
          "data": {
            "text/plain": [
              "<tensorflow.python.keras.callbacks.History at 0x7f7f1394f5d0>"
            ]
          },
          "metadata": {
            "tags": []
          },
          "execution_count": 25
        }
      ]
    },
    {
      "cell_type": "code",
      "metadata": {
        "colab": {
          "base_uri": "https://localhost:8080/"
        },
        "id": "-3ewy5sXqtEU",
        "outputId": "e411108a-bec1-443c-81b8-61a02f7b302e"
      },
      "source": [
        "#Prediction\n",
        "cnn_pred = (cnn_model.predict(test_x) > 0.5).astype(\"int\")\n",
        "\n",
        "print(classification_report(test_y, cnn_pred))"
      ],
      "execution_count": 26,
      "outputs": [
        {
          "output_type": "stream",
          "text": [
            "              precision    recall  f1-score   support\n",
            "\n",
            "           0       0.99      0.99      0.99      4330\n",
            "           1       0.99      0.99      0.99      4650\n",
            "\n",
            "    accuracy                           0.99      8980\n",
            "   macro avg       0.99      0.99      0.99      8980\n",
            "weighted avg       0.99      0.99      0.99      8980\n",
            "\n"
          ],
          "name": "stdout"
        }
      ]
    },
    {
      "cell_type": "markdown",
      "metadata": {
        "id": "oD5J3UMc5n-b"
      },
      "source": [
        "# Model 3 (word2vec + CNN LSTM)\n"
      ]
    },
    {
      "cell_type": "code",
      "metadata": {
        "id": "Anc9wee5ggCH"
      },
      "source": [
        "#Set up the LSTM network\n",
        "lstm_model = Sequential()\n",
        "lstm_model.add(Embedding(vocab_size, output_dim=EMBEDDING_DIM, weights=[embedding_vectors], input_length=MAX_SEQUENCE_LENGTH, trainable=False))\n",
        "lstm_model.add(Conv1D(filters=128, kernel_size=5, activation='relu'))\n",
        "lstm_model.add(MaxPooling1D(4))\n",
        "lstm_model.add(Dropout(0.1))\n",
        "lstm_model.add(Conv1D(filters=64, kernel_size=5, activation='relu'))\n",
        "lstm_model.add(MaxPooling1D(4))\n",
        "lstm_model.add(Dropout(0.1))\n",
        "lstm_model.add(LSTM(units=64))\n",
        "lstm_model.add(Dense(1, activation='sigmoid'))\n",
        "lstm_model.compile(optimizer='adam', loss='binary_crossentropy', metrics=['accuracy'])"
      ],
      "execution_count": 27,
      "outputs": []
    },
    {
      "cell_type": "code",
      "metadata": {
        "colab": {
          "base_uri": "https://localhost:8080/"
        },
        "id": "iAo8SaLihJN3",
        "outputId": "8197a62f-9c19-4864-a225-bb2a48d786db"
      },
      "source": [
        "lstm_model.summary()"
      ],
      "execution_count": 28,
      "outputs": [
        {
          "output_type": "stream",
          "text": [
            "Model: \"sequential_1\"\n",
            "_________________________________________________________________\n",
            "Layer (type)                 Output Shape              Param #   \n",
            "=================================================================\n",
            "embedding_1 (Embedding)      (None, 500, 200)          40450000  \n",
            "_________________________________________________________________\n",
            "conv1d_2 (Conv1D)            (None, 496, 128)          128128    \n",
            "_________________________________________________________________\n",
            "max_pooling1d_2 (MaxPooling1 (None, 124, 128)          0         \n",
            "_________________________________________________________________\n",
            "dropout_2 (Dropout)          (None, 124, 128)          0         \n",
            "_________________________________________________________________\n",
            "conv1d_3 (Conv1D)            (None, 120, 64)           41024     \n",
            "_________________________________________________________________\n",
            "max_pooling1d_3 (MaxPooling1 (None, 30, 64)            0         \n",
            "_________________________________________________________________\n",
            "dropout_3 (Dropout)          (None, 30, 64)            0         \n",
            "_________________________________________________________________\n",
            "lstm (LSTM)                  (None, 64)                33024     \n",
            "_________________________________________________________________\n",
            "dense_2 (Dense)              (None, 1)                 65        \n",
            "=================================================================\n",
            "Total params: 40,652,241\n",
            "Trainable params: 202,241\n",
            "Non-trainable params: 40,450,000\n",
            "_________________________________________________________________\n"
          ],
          "name": "stdout"
        }
      ]
    },
    {
      "cell_type": "code",
      "metadata": {
        "colab": {
          "base_uri": "https://localhost:8080/"
        },
        "id": "_y1_jSXag-Ee",
        "outputId": "6dd76ced-e823-4ad6-a80e-cc59a458faea"
      },
      "source": [
        "#Train the model \n",
        "%%time\n",
        "lstm_model.fit(train_x, train_y, batch_size = 128 , validation_data = (val_x,val_y) , epochs = 2)"
      ],
      "execution_count": 29,
      "outputs": [
        {
          "output_type": "stream",
          "text": [
            "Epoch 1/2\n",
            "246/246 [==============================] - 227s 916ms/step - loss: 0.2399 - accuracy: 0.8979 - val_loss: 0.0449 - val_accuracy: 0.9846\n",
            "Epoch 2/2\n",
            "246/246 [==============================] - 223s 908ms/step - loss: 0.0351 - accuracy: 0.9882 - val_loss: 0.0387 - val_accuracy: 0.9862\n",
            "CPU times: user 14min 14s, sys: 8.45 s, total: 14min 22s\n",
            "Wall time: 7min 30s\n"
          ],
          "name": "stdout"
        },
        {
          "output_type": "execute_result",
          "data": {
            "text/plain": [
              "<tensorflow.python.keras.callbacks.History at 0x7f7f0d0e6890>"
            ]
          },
          "metadata": {
            "tags": []
          },
          "execution_count": 29
        }
      ]
    },
    {
      "cell_type": "code",
      "metadata": {
        "id": "tn1TBpHEiOxW"
      },
      "source": [
        "lstm_pred = (lstm_model.predict(test_x) > 0.5).astype(\"int\")"
      ],
      "execution_count": 30,
      "outputs": []
    },
    {
      "cell_type": "code",
      "metadata": {
        "colab": {
          "base_uri": "https://localhost:8080/"
        },
        "id": "75eV118zlJNM",
        "outputId": "89e7b674-75f2-4612-fa5e-bb4b3c0adadd"
      },
      "source": [
        "print(classification_report(test_y, lstm_pred))"
      ],
      "execution_count": 31,
      "outputs": [
        {
          "output_type": "stream",
          "text": [
            "              precision    recall  f1-score   support\n",
            "\n",
            "           0       0.98      0.99      0.99      4330\n",
            "           1       0.99      0.98      0.99      4650\n",
            "\n",
            "    accuracy                           0.99      8980\n",
            "   macro avg       0.99      0.99      0.99      8980\n",
            "weighted avg       0.99      0.99      0.99      8980\n",
            "\n"
          ],
          "name": "stdout"
        }
      ]
    },
    {
      "cell_type": "markdown",
      "metadata": {
        "id": "Cjk0fKxz5n-b"
      },
      "source": [
        "# Summary"
      ]
    },
    {
      "cell_type": "markdown",
      "metadata": {
        "id": "9im4tbp22AD8"
      },
      "source": [
        "Here in this task, we have trained 3 classifcaiton models with two kinds of text processing setup:\n",
        "<br>\n",
        "1. TF-iDF processing + LightGBM\n",
        "2. word2vec processing + CNN\n",
        "3. word2vec processing + CNN LSTM"
      ]
    },
    {
      "cell_type": "markdown",
      "metadata": {
        "id": "pfmtlcY01tM9"
      },
      "source": [
        "Rationale for model 1:\n",
        "<br>\n",
        "In model 1, we chose TF-iDF processing, which is a technique to quantify a word  in news by computing the weights with respect to the news and the corpus. It is a common method in Text Mining. After quantifying, we used LightGBM to process the classification task. LightGBM is a framework designed for fast training speed and high efficiency, hence the running time of model 1 is significantly faster than model 2 and model 3."
      ]
    },
    {
      "cell_type": "markdown",
      "metadata": {
        "id": "K3ESTIHg5JnN"
      },
      "source": [
        "Rationale for model 2:\n",
        "<br>\n",
        "In this model, we used another text-processing setup, word2vec.  Word2vec is one kind of word-embedding which generates word vectors to capture semantic similarity, rather than just computing weight in TF-iDF. After processing, we used one type of  neural networks, CNN,to do the classification task. CNN usually works well on text and images."
      ]
    },
    {
      "cell_type": "markdown",
      "metadata": {
        "id": "Y2K5OE4l7pYS"
      },
      "source": [
        "Rationale for model 3:\n",
        "<br>\n",
        "The main addition element of model 3 is that LSTM  is being added. Therefore, the architecture of model 3 could be viewed as using CNN layer for feature extraction combined with LSTM to support the sequence prediction.\n"
      ]
    },
    {
      "cell_type": "markdown",
      "metadata": {
        "id": "6MRLtt_PHlkz"
      },
      "source": [
        "Result Summary (F1-score):\n",
        "<br>\n",
        "1. Model 1: 97%\n",
        "2. Modle 2: 99%\n",
        "3. Model 3: 99%"
      ]
    },
    {
      "cell_type": "code",
      "metadata": {
        "colab": {
          "base_uri": "https://localhost:8080/",
          "height": 350
        },
        "id": "HYEHmaiZVpHH",
        "outputId": "b05fa82f-2b29-44c2-ea94-f3de69a4ae2e"
      },
      "source": [
        "fig, axes = plt.subplots(1, 3, figsize=(20, 5))\n",
        "sns.heatmap(confusion_matrix(test_y, predict_lgb), annot=True, cmap='Blues', fmt='g', ax=axes[0])\n",
        "axes[0].set(xlabel='Predicted', ylabel='True', title ='Model_1')\n",
        "sns.heatmap(confusion_matrix(test_y, cnn_pred), annot=True, cmap='Blues', fmt='g', ax=axes[1])\n",
        "axes[1].set(xlabel='Predicted', ylabel='True', title ='Model_2')\n",
        "sns.heatmap(confusion_matrix(test_y, lstm_pred), annot=True, cmap='Blues', fmt='g', ax=axes[2])\n",
        "axes[2].set(xlabel='Predicted', ylabel='True', title ='Model_3')\n",
        "plt.show()"
      ],
      "execution_count": 49,
      "outputs": [
        {
          "output_type": "display_data",
          "data": {
            "image/png": "[encoded data removed]",
            "text/plain": [
              "<Figure size 1440x360 with 6 Axes>"
            ]
          },
          "metadata": {
            "tags": [],
            "needs_background": "light"
          }
        }
      ]
    },
    {
      "cell_type": "markdown",
      "metadata": {
        "id": "U0MuJf9IU80H"
      },
      "source": [
        "We could see that all 3 models perform well with this task. \n",
        "<br>\n",
        "In terms of training time, model 1 (TF-iDF processing + LightGBM) is the fastest one.\n",
        "<br>\n",
        "Meanwhile, the test result from Model 2 and Model 3 is  better than that from Model 1.\n",
        "<br>\n",
        "Therefore, if timing is a concern, model 1 could be the best option among these 3 models.\n",
        "<br>\n",
        "If we want to put more focus on semantic similarity as well as sequence, model 3 would be the best suitable one for further refinement."
      ]
    }
  ]
}